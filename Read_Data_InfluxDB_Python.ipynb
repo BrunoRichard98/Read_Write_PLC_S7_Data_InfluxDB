{
 "cells": [
  {
   "cell_type": "markdown",
   "metadata": {},
   "source": [
    "\n",
    "Importing the Lybraries\n"
   ]
  },
  {
   "cell_type": "code",
   "execution_count": 1,
   "metadata": {},
   "outputs": [],
   "source": [
    "#Go to conda enviroment in the conda prompt and do a \"pip install\" libraries: \"influxdb_client\" and \"pandas\" before importing them\n",
    "from influxdb_client import InfluxDBClient # Import InfluxDB client library\n",
    "from influxdb_client.client.query_api import QueryApi# Import Query API for querying data\n",
    "from datetime import datetime \n",
    "import pandas as pd  # Import pandas for data manipulation and analysis\n"
   ]
  },
  {
   "cell_type": "markdown",
   "metadata": {},
   "source": [
    "Defining the Influx variables"
   ]
  },
  {
   "cell_type": "code",
   "execution_count": null,
   "metadata": {},
   "outputs": [],
   "source": [
    "url = \"http://localhost:8086\"  # Replace with your InfluxDB URL\n",
    "\n",
    "token = \"XXXXXXXXXXXXXXXXXXXXXXXXXXXXXXXXXXXXXXXXXXXXXXXXXXXXXXXX\" # Cloned token for authentication From InfluxDB\n",
    "\n",
    "org = \"PROJECT\" # Organization name\n",
    "\n",
    "bucket = \"TESTE\" # Bucket name for data storage"
   ]
  },
  {
   "cell_type": "markdown",
   "metadata": {},
   "source": [
    "Realizing the Query"
   ]
  },
  {
   "cell_type": "code",
   "execution_count": null,
   "metadata": {},
   "outputs": [],
   "source": [
    "client = InfluxDBClient(url=url, token=token, org=org, timeout=60000) # Create InfluxDB client with specified URL, token, organization, and timeout\n",
    "query_api = client.query_api() # Initialize the Query API for executing queries\n",
    "\n",
    "# Start from the beginning of the database (timestamp 0)\n",
    "query = 'from(bucket: \"TESTE\") |> range(start: 0)' # Define query to retrieve data from the specified bucket, replcace the \"TESTE\" with your bucket name\n",
    "\n",
    "result = query_api.query(org=org, query=query) # Execute the query on the specified organization and store the results"
   ]
  },
  {
   "cell_type": "markdown",
   "metadata": {},
   "source": [
    "Passing to DataFrame"
   ]
  },
  {
   "cell_type": "code",
   "execution_count": 5,
   "metadata": {},
   "outputs": [],
   "source": [
    "# List to store the data\n",
    "data = []\n",
    "\n",
    "# Iterate over the records returned by the query\n",
    "for table in result:\n",
    "    for record in table.records:\n",
    "        # Append record details to the data list\n",
    "        data.append({\n",
    "            'time': record.get_time(),  # Record time\n",
    "            'measurement': record.get_measurement(),  # Record measurement\n",
    "            'field': record.get_field(),  # Record field\n",
    "            'value': record.get_value()  # Record value\n",
    "        })\n",
    "\n",
    "# Create a DataFrame with the collected data\n",
    "# Before using a pandas lib do \"pip install pandas\"\n",
    "df = pd.DataFrame(data)  # Convert the list of records into a pandas DataFrame\n"
   ]
  }
 ],
 "metadata": {
  "kernelspec": {
   "display_name": "prat-alix",
   "language": "python",
   "name": "python3"
  },
  "language_info": {
   "codemirror_mode": {
    "name": "ipython",
    "version": 3
   },
   "file_extension": ".py",
   "mimetype": "text/x-python",
   "name": "python",
   "nbconvert_exporter": "python",
   "pygments_lexer": "ipython3",
   "version": "3.13.0"
  }
 },
 "nbformat": 4,
 "nbformat_minor": 2
}
